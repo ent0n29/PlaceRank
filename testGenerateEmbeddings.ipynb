{
 "cells": [
  {
   "cell_type": "code",
   "execution_count": 3,
   "metadata": {},
   "outputs": [],
   "source": [
    "from embeddingsModule.generateEmbeddings import BERTEmbeddingsGenerator\n",
    "\n",
    "texts = [\n",
    "        \"bank\", \"he eventually sold the shares back to the bank at a premium.\", \n",
    "        \"the bank strongly resisted cutting interest rates.\"\n",
    "        # Add more sentences \n",
    "    ]\n",
    "\n",
    "    # choose your output directory in order to save your embeddings\n",
    "output_directory = 'embeddings_stored'\n",
    "    \n",
    "embeddings_generator = BERTEmbeddingsGenerator()\n",
    "embeddings_generator.generate_embeddings(texts, output_directory)"
   ]
  },
  {
   "cell_type": "markdown",
   "metadata": {},
   "source": [
    "https://github.com/mc-cat-tty/PlaceRank/assets/105303055/ec153c2a-c1f1-4807-aa6e-9990f7ccac11"
   ]
  }
 ],
 "metadata": {
  "kernelspec": {
   "display_name": "Python 3",
   "language": "python",
   "name": "python3"
  },
  "language_info": {
   "codemirror_mode": {
    "name": "ipython",
    "version": 3
   },
   "file_extension": ".py",
   "mimetype": "text/x-python",
   "name": "python",
   "nbconvert_exporter": "python",
   "pygments_lexer": "ipython3",
   "version": "3.10.12"
  }
 },
 "nbformat": 4,
 "nbformat_minor": 2
}
