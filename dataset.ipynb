{
 "cells": [
  {
   "cell_type": "markdown",
   "metadata": {},
   "source": [
    "# Dataset\n",
    "\n",
    "Download the dataset from InsideAirbnb for New York City and build an inverted index using Whoosh.\n",
    "The function `populate_index` takes care of all. It requires the directory name where the index will be stored, usually it's `index` and\n",
    "it's located in the current working directory.\n",
    "\n",
    "`.gitignore` tells git to ignore the top level subdirectory `index`, where the inverted index for this project should be stored.\n",
    "\n",
    "Once you download and generate the II, you don't need to rebuild it anymore and you can directly load it using Whoosh open_in."
   ]
  },
  {
   "cell_type": "code",
   "execution_count": 1,
   "metadata": {},
   "outputs": [],
   "source": [
    "from placerank.dataset import populate_index"
   ]
  },
  {
   "cell_type": "markdown",
   "metadata": {},
   "source": [
    "Download dataset source and build an index. Currently `[\"id\", \"name\", \"description\", \"neighborhood_overview\"]` will be indexed, to add keys to the indexing edit the II schema and add keys to the function `placerank.dataset.DocumentLogicView`."
   ]
  },
  {
   "cell_type": "code",
   "execution_count": 2,
   "metadata": {},
   "outputs": [],
   "source": [
    "populate_index(\"index\")"
   ]
  },
  {
   "cell_type": "markdown",
   "metadata": {},
   "source": [
    "## Search\n",
    "\n",
    "To search in the inverted index, we have to open it first."
   ]
  },
  {
   "cell_type": "code",
   "execution_count": 3,
   "metadata": {},
   "outputs": [],
   "source": [
    "from whoosh.index import open_dir\n",
    "\n",
    "ix = open_dir(\"index\")"
   ]
  },
  {
   "cell_type": "markdown",
   "metadata": {},
   "source": [
    "Two additional objects are required to perform queries: a `Searcher` and a `QueryParser`. Their names are pretty self-explanatory."
   ]
  },
  {
   "cell_type": "code",
   "execution_count": 4,
   "metadata": {},
   "outputs": [],
   "source": [
    "from whoosh.qparser import QueryParser\n",
    "\n",
    "parser = QueryParser(\"neighborhood_overview\", ix.schema)\n",
    "searcher = ix.searcher()"
   ]
  },
  {
   "cell_type": "markdown",
   "metadata": {},
   "source": [
    "This query parser will search for terms in the \"neighborhood_overview\" field only."
   ]
  },
  {
   "cell_type": "code",
   "execution_count": 8,
   "metadata": {},
   "outputs": [],
   "source": [
    "UIN = \"Brooklyn\"\n",
    "\n",
    "query = parser.parse(UIN)\n",
    "results = searcher.search(query)"
   ]
  },
  {
   "cell_type": "markdown",
   "metadata": {},
   "source": [
    "Display the results of the query."
   ]
  },
  {
   "cell_type": "code",
   "execution_count": 9,
   "metadata": {},
   "outputs": [
    {
     "name": "stdout",
     "output_type": "stream",
     "text": [
      "Rental unit in Brooklyn · ★4.25 · 1 bedroom · 1 bed · 1 shared bath\n",
      "Rental unit in Brooklyn · ★New · 2 bedrooms · 2 beds · 1 bath\n",
      "Rental unit in Brooklyn · ★4.98 · 1 bedroom · 3 beds · 1 bath\n",
      "Home in Brooklyn · ★4.96 · 1 bedroom · 1 bed · 1 bath\n",
      "Townhouse in Brooklyn · ★4.83 · 2 bedrooms · 2 beds · 1 private bath\n",
      "Rental unit in Brooklyn · 1 bedroom · 1 bed · 1 bath\n",
      "Rental unit in Brooklyn · 1 bedroom · 1 bed · 1 shared bath\n",
      "Rental unit in Brooklyn · ★New · 2 bedrooms · 2 beds · 1 shared bath\n",
      "Rental unit in Brooklyn · ★4.20 · 3 bedrooms · 3 beds · 2 baths\n",
      "Rental unit in Brooklyn · ★4.75 · 1 bedroom · 1 bed · 1 shared bath\n"
     ]
    }
   ],
   "source": [
    "for r in results:\n",
    "    print(r.get(\"name\"))"
   ]
  }
 ],
 "metadata": {
  "kernelspec": {
   "display_name": "venv",
   "language": "python",
   "name": "python3"
  },
  "language_info": {
   "codemirror_mode": {
    "name": "ipython",
    "version": 3
   },
   "file_extension": ".py",
   "mimetype": "text/x-python",
   "name": "python",
   "nbconvert_exporter": "python",
   "pygments_lexer": "ipython3",
   "version": "3.10.12"
  }
 },
 "nbformat": 4,
 "nbformat_minor": 2
}
