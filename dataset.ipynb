{
 "cells": [
  {
   "cell_type": "markdown",
   "metadata": {},
   "source": [
    "# Dataset\n",
    "\n",
    "Download the dataset from InsideAirbnb for New York City and build an inverted index using Whoosh.\n",
    "The function `populate_index` takes care of all. It requires the directory name where the index will be stored, usually it's `index` and\n",
    "it's located in the current working directory.\n",
    "\n",
    "`.gitignore` tells git to ignore the top level subdirectory `index`, where the inverted index for this project should be stored.\n",
    "\n",
    "Once you download and generate the II, you don't need to rebuild it anymore and you can directly load it using Whoosh open_in."
   ]
  },
  {
   "cell_type": "code",
   "execution_count": 1,
   "metadata": {},
   "outputs": [],
   "source": [
    "from placerank.dataset import populate_index"
   ]
  },
  {
   "cell_type": "markdown",
   "metadata": {},
   "source": [
    "Download dataset source and build an index. Currently `[\"id\", \"name\", \"description\", \"neighborhood_overview\"]` will be indexed, to add keys to the indexing edit the II schema and add keys to the function `placerank.dataset.DocumentLogicView`."
   ]
  },
  {
   "cell_type": "code",
   "execution_count": 2,
   "metadata": {},
   "outputs": [],
   "source": [
    "populate_index(\"index\")"
   ]
  },
  {
   "cell_type": "markdown",
   "metadata": {},
   "source": [
    "## Search\n",
    "\n",
    "To search in the inverted index, we have to open it first."
   ]
  },
  {
   "cell_type": "code",
   "execution_count": 3,
   "metadata": {},
   "outputs": [],
   "source": [
    "from whoosh.index import open_dir\n",
    "\n",
    "ix = open_dir(\"index\")"
   ]
  },
  {
   "cell_type": "markdown",
   "metadata": {},
   "source": [
    "Two additional objects are required to perform queries: a `Searcher` and a `QueryParser`. Their names are pretty self-explanatory."
   ]
  },
  {
   "cell_type": "code",
   "execution_count": 4,
   "metadata": {},
   "outputs": [],
   "source": [
    "from whoosh.qparser import QueryParser\n",
    "\n",
    "parser = QueryParser(\"neighborhood_overview\", ix.schema)"
   ]
  },
  {
   "cell_type": "markdown",
   "metadata": {},
   "source": [
    "This query parser will search for terms in the \"neighborhood_overview\" field only. Then display the results of the query."
   ]
  },
  {
   "cell_type": "code",
   "execution_count": 10,
   "metadata": {},
   "outputs": [
    {
     "name": "stdout",
     "output_type": "stream",
     "text": [
      "('21421657', 'Rental unit in New York · ★4.89 · 1 bedroom · 2 beds · 1 bath')\n",
      "('32403772', 'Rental unit in New York · ★4.67 · 1 bedroom · 1 bed · 1 bath')\n",
      "('11619832', 'Rental unit in New York · ★4.49 · 1 bedroom · 2 beds · 1 shared bath')\n",
      "('22805946', 'Rental unit in New York · ★3.77 · 2 bedrooms · 2 beds · 1 bath')\n",
      "('43317941', 'Rental unit in Queens · 1 bedroom · 1 bed · 1 shared bath')\n",
      "('746284414276369998', 'Rental unit in New York · 1 bedroom · 1 bed · 1 bath')\n",
      "('3018031', 'Rental unit in New York · Studio · 1 bed · 1 bath')\n",
      "('6558125', 'Rental unit in New York · ★4.69 · 1 bedroom · 1 bed · 1 bath')\n",
      "('51714701', 'Rental unit in New York · ★4.86 · 1 bedroom · 1 bed · 1 bath')\n",
      "('756685458967490030', 'Condo in New York · ★4.77 · 2 bedrooms · 2 beds · 2 baths')\n"
     ]
    }
   ],
   "source": [
    "UIN = \"Manhattan\"\n",
    "\n",
    "query = parser.parse(UIN)\n",
    "with ix.searcher() as searcher:\n",
    "    results = searcher.search(query)\n",
    "    print(*[(hit.get(\"id\"), hit.get(\"name\")) for hit in results], sep='\\n')"
   ]
  },
  {
   "cell_type": "code",
   "execution_count": 11,
   "metadata": {},
   "outputs": [
    {
     "data": {
      "text/plain": [
       "{'id': '6558125',\n",
       " 'name': 'Rental unit in New York · ★4.69 · 1 bedroom · 1 bed · 1 bath',\n",
       " 'room_type': 'Entire home/apt',\n",
       " 'description': '',\n",
       " 'neighborhood_overview': 'You are in the heart of Manhattan!'}"
      ]
     },
     "execution_count": 11,
     "metadata": {},
     "output_type": "execute_result"
    }
   ],
   "source": [
    "from placerank.dataset import load_page\n",
    "\n",
    "ID = 6558125\n",
    "\n",
    "load_page(6558125)"
   ]
  }
 ],
 "metadata": {
  "kernelspec": {
   "display_name": "venv",
   "language": "python",
   "name": "python3"
  },
  "language_info": {
   "codemirror_mode": {
    "name": "ipython",
    "version": 3
   },
   "file_extension": ".py",
   "mimetype": "text/x-python",
   "name": "python",
   "nbconvert_exporter": "python",
   "pygments_lexer": "ipython3",
   "version": "3.11.6"
  }
 },
 "nbformat": 4,
 "nbformat_minor": 2
}
