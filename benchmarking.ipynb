{
 "cells": [
  {
   "cell_type": "markdown",
   "metadata": {},
   "source": [
    "# Benchmarking"
   ]
  },
  {
   "cell_type": "markdown",
   "metadata": {},
   "source": [
    "## Test BenchamarkEntryView Module"
   ]
  },
  {
   "cell_type": "code",
   "execution_count": 1,
   "metadata": {},
   "outputs": [],
   "source": [
    "from placerank.logic_views import BenchmarkRecordView"
   ]
  },
  {
   "cell_type": "code",
   "execution_count": 2,
   "metadata": {},
   "outputs": [],
   "source": [
    "with open('validation/uin.csv') as u, open('validation/query.csv') as q, open('validation/expected_ranking.csv') as r:\n",
    "    view = BenchmarkRecordView.get_view_from_csv(u.readlines(), q.readlines(), r.readlines())"
   ]
  },
  {
   "cell_type": "code",
   "execution_count": 3,
   "metadata": {},
   "outputs": [
    {
     "name": "stdout",
     "output_type": "stream",
     "text": [
      "[{'uin_id': 1, 'uin': 'Manhattan apartment with NY skyline view with big and bright open space', 'textual_query': 'Manhattan apartment with skyline view', 'room_type': 'Entire room/apt', 'sentiment_tags': 'Astonishing Bright Cozy', 'ranking': [101, 90, 87]}]\n"
     ]
    }
   ],
   "source": [
    "print(view)"
   ]
  }
 ],
 "metadata": {
  "kernelspec": {
   "display_name": "venv",
   "language": "python",
   "name": "python3"
  },
  "language_info": {
   "codemirror_mode": {
    "name": "ipython",
    "version": 3
   },
   "file_extension": ".py",
   "mimetype": "text/x-python",
   "name": "python",
   "nbconvert_exporter": "python",
   "pygments_lexer": "ipython3",
   "version": "3.11.6"
  }
 },
 "nbformat": 4,
 "nbformat_minor": 2
}
