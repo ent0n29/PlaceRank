{
 "cells": [
  {
   "cell_type": "markdown",
   "metadata": {},
   "source": [
    "### Sentiment Classifications with GoEmotions"
   ]
  },
  {
   "cell_type": "markdown",
   "metadata": {},
   "source": [
    "We use the  _transformers_  library made by HuggingFace.\n",
    "\n",
    "The  _pipelines_  are a great and easy way to use models for inference. These pipelines are objects that abstract most of the complex code from the library, offering a simple API dedicated to several tasks, including Named Entity Recognition, Masked Language Modeling, Sentiment Analysis, Feature Extraction and Question Answering.\n",
    "\n",
    "_AutoModel_  is a generic model class that will be instantiated as one of the base model classes of the library when created with the AutoModel.from_pretrained(pretrained_model_name_or_path) or the AutoModel.from_config(config) class methods."
   ]
  },
  {
   "cell_type": "code",
   "execution_count": 91,
   "metadata": {},
   "outputs": [],
   "source": [
    "from transformers import BertTokenizer, AutoModelForSequenceClassification\n",
    "from transformers import pipeline"
   ]
  },
  {
   "cell_type": "markdown",
   "metadata": {},
   "source": [
    "_.from_pretrained()_  help us to load the weights of the pre-trained model of our choice: \"bert-base-cased-goemotions-original\".\n",
    "The model is a fine-tuned version of BERT trained on the GoEmotions dataset.\n",
    "The dataset is labeled with 28 different sentiments."
   ]
  },
  {
   "cell_type": "code",
   "execution_count": 93,
   "metadata": {},
   "outputs": [
    {
     "data": {
      "text/plain": [
       "[[{'label': 'curiosity', 'score': 0.958572506904602},\n",
       "  {'label': 'love', 'score': 0.9358108043670654}]]"
      ]
     },
     "execution_count": 93,
     "metadata": {},
     "output_type": "execute_result"
    }
   ],
   "source": [
    "model_name = 'original'\n",
    "\n",
    "# loading the weights, initializing a model and a tokenizer\n",
    "tokenizer = BertTokenizer.from_pretrained(f\"monologg/bert-base-cased-goemotions-{model_name}\")\n",
    "model = AutoModelForSequenceClassification.from_pretrained(f\"monologg/bert-base-cased-goemotions-{model_name}\", num_labels=28)\n",
    "\n",
    "# multilabel pipeline for text-classification\n",
    "goemotions=pipeline(\n",
    "        model=model, \n",
    "        tokenizer=tokenizer, \n",
    "        task=\"text-classification\",\n",
    "        top_k=2,    # top-k 2 elements with higher score\n",
    "        function_to_apply='sigmoid',\n",
    "        )\n",
    "\n",
    "texts = [\"it’s happened before?! love my hometown of beautiful new ken 😂😂\"]\n",
    "\n",
    "goemotions(texts)"
   ]
  }
 ],
 "metadata": {
  "kernelspec": {
   "display_name": "Python 3",
   "language": "python",
   "name": "python3"
  },
  "language_info": {
   "codemirror_mode": {
    "name": "ipython",
    "version": 3
   },
   "file_extension": ".py",
   "mimetype": "text/x-python",
   "name": "python",
   "nbconvert_exporter": "python",
   "pygments_lexer": "ipython3",
   "version": "3.10.12"
  }
 },
 "nbformat": 4,
 "nbformat_minor": 2
}
